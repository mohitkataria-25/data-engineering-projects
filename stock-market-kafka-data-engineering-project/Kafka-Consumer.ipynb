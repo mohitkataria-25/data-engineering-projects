{
 "cells": [
  {
   "cell_type": "code",
   "execution_count": 15,
   "id": "6cf136b6",
   "metadata": {},
   "outputs": [],
   "source": [
    "import pandas as pd\n",
    "from kafka import KafkaConsumer, KafkaProducer\n",
    "from time import sleep\n",
    "from json import dumps, loads\n",
    "import json\n",
    "from s3fs import S3FileSystem"
   ]
  },
  {
   "cell_type": "code",
   "execution_count": 16,
   "id": "c49ba6af",
   "metadata": {},
   "outputs": [],
   "source": [
    "consumer = KafkaConsumer(\n",
    "    'demo_testing_1',\n",
    "    bootstrap_servers = ['44.200.11.141:9092'],\n",
    "    value_deserializer= lambda x: loads(x.decode('utf-8')))"
   ]
  },
  {
   "cell_type": "code",
   "execution_count": null,
   "id": "89667ff4",
   "metadata": {},
   "outputs": [],
   "source": [
    "#for c in consumer:\n",
    "#    print (c.value)"
   ]
  },
  {
   "cell_type": "code",
   "execution_count": 17,
   "id": "c61a77e7",
   "metadata": {},
   "outputs": [],
   "source": [
    "#pip install s3fs"
   ]
  },
  {
   "cell_type": "code",
   "execution_count": 18,
   "id": "2fd09fe9",
   "metadata": {},
   "outputs": [],
   "source": [
    "s3 = S3FileSystem()"
   ]
  },
  {
   "cell_type": "code",
   "execution_count": null,
   "id": "d9b8a0e1",
   "metadata": {},
   "outputs": [],
   "source": [
    "for count, i in enumerate(consumer):\n",
    "         with s3.open(\"s3://kafka-stock-market-tutorial-mohit/stock_market_{}.json\".format(count))\n",
    "         json.dump(i.value, count)"
   ]
  },
  {
   "cell_type": "code",
   "execution_count": null,
   "id": "1b3776ad",
   "metadata": {},
   "outputs": [],
   "source": []
  },
  {
   "cell_type": "code",
   "execution_count": null,
   "id": "ff64267c",
   "metadata": {},
   "outputs": [],
   "source": []
  }
 ],
 "metadata": {
  "kernelspec": {
   "display_name": "Python 3 (ipykernel)",
   "language": "python",
   "name": "python3"
  },
  "language_info": {
   "codemirror_mode": {
    "name": "ipython",
    "version": 3
   },
   "file_extension": ".py",
   "mimetype": "text/x-python",
   "name": "python",
   "nbconvert_exporter": "python",
   "pygments_lexer": "ipython3",
   "version": "3.10.9"
  }
 },
 "nbformat": 4,
 "nbformat_minor": 5
}
